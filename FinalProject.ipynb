{
  "cells": [
    {
      "cell_type": "markdown",
      "metadata": {
        "id": "Yh5B637w5Kgk"
      },
      "source": [
        "## Kelompok 17\n",
        "Armadhani Hiro Juni Permana (1301190234) <br>\n",
        "Andre Agasi Simanungkalit (130119)<br>\n",
        "Windy Ramadhanti (1301194002)<br>\n",
        "IF-43-02"
      ]
    },
    {
      "cell_type": "code",
      "execution_count": null,
      "metadata": {
        "id": "K8shHwnv5H1l"
      },
      "outputs": [],
      "source": [
        "#Library yang digunakan\n",
        "import time\n",
        "import pandas as pd\n",
        "import numpy as np\n",
        "\n",
        "from bokeh.plotting import figure, show, curdoc\n",
        "from bokeh.io import output_notebook, push_notebook, output_file\n",
        "from bokeh.transform import linear_cmap\n",
        "from bokeh.models import ColumnDataSource, HoverTool\n",
        "\n",
        "from bokeh.tile_providers import get_provider, Vendors\n",
        "from pyproj import Proj, transform\n",
        "\n",
        "from bokeh.layouts import row, column, grid, gridplot\n",
        "from bokeh.models import CustomJS\n",
        "from bokeh.models.widgets import Button, Select\n",
        "\n",
        "output_file(\"tubes.html\")"
      ]
    },
    {
      "cell_type": "code",
      "execution_count": null,
      "metadata": {
        "id": "yXt_Wrfo9CO-"
      },
      "outputs": [],
      "source": [
        "iSelect=0           # Index Select\n",
        "nSum = [0,0,0,0,0,0,0]\n",
        "nMinMax = [0,0,0,0,0,0,0]"
      ]
    },
    {
      "cell_type": "code",
      "execution_count": null,
      "metadata": {
        "id": "3YfwSsPY9VDv"
      },
      "outputs": [],
      "source": [
        "#Dataset\n",
        "df1=pd.read_csv('https://raw.githubusercontent.com/valiandafh/Tubes-/master/time_series_covid19_confirmed_global.csv')    # Confirmed\n",
        "df2=pd.read_csv('https://raw.githubusercontent.com/valiandafh/Tubes-/master/time_series_covid19_recovered_global.csv')    # Recovered\n",
        "df3=pd.read_csv('https://raw.githubusercontent.com/valiandafh/Tubes-/master/time_series_covid19_death_global.csv')        # Death\n",
        "\n",
        "df1.rename(columns={'Province/State':'Province', 'Country/Region':'Country'}, inplace=True)\n",
        "maxBaris=len(df1.iloc[:,0])     # 264baris\n",
        "maxKolom=len(df1.iloc[0,:])     # 96kolom\n",
        "\n",
        "df1['Total'] = df1.iloc[:,-1]\n",
        "df2['Total'] = df2.iloc[:,-1]\n",
        "df3['Total'] = df3.iloc[:,-1]\n",
        "\n",
        "dCountry=df1['Country']\n",
        "dProvince=df1['Province']\n",
        "lCountry=dCountry.values.tolist()\n",
        "lProvince=dProvince.values.tolist()"
      ]
    },
    {
      "cell_type": "code",
      "execution_count": null,
      "metadata": {
        "id": "8o3j7Hq09q6N"
      },
      "outputs": [],
      "source": [
        "# List of Select\n",
        "L1 = lCountry\n",
        "L2 = lProvince\n",
        "L3 = L1\n",
        "\n",
        "y1=df1.iloc[iSelect,4:maxKolom]\n",
        "y2=df2.iloc[iSelect,4:maxKolom]\n",
        "y3=df3.iloc[iSelect,4:maxKolom]\n",
        "x1=[x1 for x1 in range(0,len(y1))]\n",
        "mydates=y2.index.values\n",
        "nBaris=len(lCountry)-1\n",
        "nKolom=len(x1)-1"
      ]
    },
    {
      "cell_type": "code",
      "execution_count": null,
      "metadata": {
        "id": "X4n38Qi9-a8n"
      },
      "outputs": [],
      "source": [
        "#Button\n",
        "mybtn15 = Button(label=\"Confirmed = 1176\", name=\"12\", width=120)\n",
        "mybtn16 = Button(label=\"Recovered = 166\", name=\"12\", width=120)\n",
        "mybtn17 = Button(label=\"Death = 140\", name=\"12\", width=120)"
      ]
    },
    {
      "cell_type": "code",
      "execution_count": null,
      "metadata": {
        "id": "TUgfdpbB-kjZ"
      },
      "outputs": [],
      "source": [
        "#Peta dan Data\n",
        "mydf=df1\n",
        "mytitle=\"Visualisasi Statistik COVID-19\"\n",
        "x=mydf['Long']\n",
        "y=mydf['Lat']\n",
        "z=mydf['Total']\n",
        "myC=mydf['Country']\n",
        "\n",
        "mysizes=np.abs(z)\n",
        "myWarna=np.abs(z)"
      ]
    },
    {
      "cell_type": "code",
      "execution_count": null,
      "metadata": {
        "colab": {
          "base_uri": "https://localhost:8080/"
        },
        "id": "o_CDjqbgMqRq",
        "outputId": "f8904854-6e17-4ab5-f794-50aa2ef04a20"
      },
      "outputs": [
        {
          "name": "stderr",
          "output_type": "stream",
          "text": [
            "<ipython-input-7-4c1d0ba9b559>:8: DeprecationWarning: This function is deprecated. See: https://pyproj4.github.io/pyproj/stable/gotchas.html#upgrading-to-pyproj-2-from-pyproj-1\n",
            "  mX[ii], mY[ii] = transform(in_wgs, out_mercator, y[ii], x[ii])\n"
          ]
        }
      ],
      "source": [
        "# Konversi WGS84 to Mercator\n",
        "in_wgs = Proj('epsg:4326')\n",
        "out_mercator = Proj('epsg:3857')\n",
        "\n",
        "mX = np.abs(x)\n",
        "mY = np.abs(y)\n",
        "for ii in range(len(x)):\n",
        "  mX[ii], mY[ii] = transform(in_wgs, out_mercator, y[ii], x[ii])\n",
        "\n",
        "  nMin=5000000\n",
        "nMax=0\n",
        "iMin=0\n",
        "iMax=0\n",
        "for ii in range(len(z)):\n",
        "  if (z[ii]>nMax):\n",
        "    nMax=z[ii]\n",
        "    iMax=ii\n",
        "\n",
        "for ii in range(len(z)):\n",
        "  if (z[ii]<nMin):\n",
        "    if (z[ii]>0):\n",
        "      nMin=z[ii]\n",
        "      iMin=ii"
      ]
    },
    {
      "cell_type": "code",
      "execution_count": null,
      "metadata": {
        "id": "KnTb6wX9Zyu7"
      },
      "outputs": [],
      "source": [
        "# Size of Circle\n",
        "for ii in range(len(z)):\n",
        "  mysizes[ii]=(5 if (z[ii]<1000) else \n",
        "              (10 if z[ii]<10000 else \n",
        "              (16 if z[ii]<100000 else \n",
        "              (28 if z[ii]<500000 else \n",
        "              42))))\n",
        "\n",
        "for ii in range(len(z)):\n",
        "  myWarna[ii]=(0 if (z[ii]<10) else \n",
        "              (1 if z[ii]<100 else \n",
        "              (3 if z[ii]<1000 else \n",
        "              (5 if z[ii]<10000 else \n",
        "              (7 if z[ii]<100000 else \n",
        "              (9 if z[ii]<500000 else \n",
        "              12))))))\n",
        "\n",
        "for ii in range(len(z)):\n",
        "  if (z[ii]<100): nSum[0]=nSum[0]+1 \n",
        "  elif (z[ii]<1000): nSum[1]=nSum[1]+1\n",
        "  elif (z[ii]<10000): nSum[2]=nSum[2]+1\n",
        "  elif (z[ii]<100000): nSum[3]=nSum[3]+1\n",
        "  elif (z[ii]<500000): nSum[4]=nSum[4]+1\n",
        "  else: nSum[5]=nSum[5]+1 \n",
        "nSum[6]=len(z)"
      ]
    },
    {
      "cell_type": "code",
      "execution_count": null,
      "metadata": {
        "id": "GYG8H5fdMwpO"
      },
      "outputs": [],
      "source": [
        "#MinMax\n",
        "nMinMax[0]=iMin\n",
        "nMinMax[1]=nMin\n",
        "nMinMax[2]=iMax\n",
        "nMinMax[3]=nMax\n",
        "\n",
        "mydf['E']=mX\n",
        "mydf['N']=mY\n",
        "mydf['Size'] = mysizes\n",
        "mydf['Warna'] = myWarna\n",
        "\n",
        "myfillcolors = linear_cmap(field_name='Warna', palette='Spectral6', low=min(myWarna), high=max(myWarna))\n",
        "\n",
        "mysource = ColumnDataSource(mydf)\n",
        "myhover = HoverTool(tooltips=[(\"Country \", \"@Country\"), \n",
        "                              (\"Province \", \"@Province\"),\n",
        "                              (\"Long \", \"@Long\"),\n",
        "                              (\"Lat \", \"@Lat\"),\n",
        "                              (\"Total \", \"@Total\")])"
      ]
    },
    {
      "cell_type": "code",
      "execution_count": null,
      "metadata": {
        "id": "NA6OTUmsM6TG"
      },
      "outputs": [],
      "source": [
        "# range bounds supplied in web mercator coordinates\n",
        "M1 = figure (plot_width=600, plot_height=440,\n",
        "  x_range=(-16000000, 16000000), y_range=(-8000000, 8000000),\n",
        "  x_axis_type='mercator', y_axis_type='mercator',\n",
        "  title=mytitle, tools=[myhover, 'pan', 'wheel_zoom', 'zoom_in', 'zoom_out','save', 'reset']\n",
        ")\n",
        "\n",
        "# tile_provider = get_provider(Vendors.STAMEN_TONER_BACKGROUND)\n",
        "mytile_provider = get_provider(Vendors.CARTODBPOSITRON)\n",
        "\n",
        "mybtn21 = Button(label=\"Min : \", width=250)\n",
        "mybtn22 = Button(label=\"Click here\", width=90)\n",
        "mybtn23 = Button(label=\"Max : \", width=250)\n",
        "\n",
        "def myhandler2b():\n",
        "  i=nMinMax[0]\n",
        "  mybtn21.label = L1[i]+\" = \"+str(z[i])+\", \"+str(df2['Total'][i])+\", \"+str(df3['Total'][i])\n",
        "  i=nMinMax[2]\n",
        "  mybtn23.label = L1[i]+\" = \"+str(z[i])+\", \"+str(df2['Total'][i])+\", \"+str(df3['Total'][i])\n",
        "  \n",
        "mybtn22.on_click(myhandler2b)\n",
        "\n",
        "B22 = row(mybtn21, mybtn22, mybtn23)"
      ]
    },
    {
      "cell_type": "code",
      "execution_count": null,
      "metadata": {
        "id": "2M7fpsDUNXTC",
        "outputId": "e748b46d-3c3f-4529-ab22-d6cb28596838"
      },
      "outputs": [
        {
          "ename": "NameError",
          "evalue": "name 'plotx' is not defined",
          "output_type": "error",
          "traceback": [
            "\u001b[1;31m---------------------------------------------------------------------------\u001b[0m",
            "\u001b[1;31mNameError\u001b[0m                                 Traceback (most recent call last)",
            "\u001b[1;32m<ipython-input-11-2b21e07704ba>\u001b[0m in \u001b[0;36m<module>\u001b[1;34m\u001b[0m\n\u001b[0;32m     38\u001b[0m \u001b[1;33m\u001b[0m\u001b[0m\n\u001b[0;32m     39\u001b[0m \u001b[1;31m#pemberian warna\u001b[0m\u001b[1;33m\u001b[0m\u001b[1;33m\u001b[0m\u001b[1;33m\u001b[0m\u001b[0m\n\u001b[1;32m---> 40\u001b[1;33m \u001b[0mr1\u001b[0m \u001b[1;33m=\u001b[0m \u001b[0mplotx\u001b[0m\u001b[1;33m.\u001b[0m\u001b[0mline\u001b[0m\u001b[1;33m(\u001b[0m\u001b[1;34m'x1c'\u001b[0m\u001b[1;33m,\u001b[0m \u001b[1;34m'y1c'\u001b[0m\u001b[1;33m,\u001b[0m \u001b[0msource\u001b[0m\u001b[1;33m=\u001b[0m\u001b[0msourcex\u001b[0m\u001b[1;33m,\u001b[0m \u001b[0mline_width\u001b[0m\u001b[1;33m=\u001b[0m\u001b[1;36m3\u001b[0m\u001b[1;33m,\u001b[0m \u001b[0mline_color\u001b[0m\u001b[1;33m=\u001b[0m\u001b[1;34m'red'\u001b[0m\u001b[1;33m,\u001b[0m \u001b[0mlegend_label\u001b[0m\u001b[1;33m=\u001b[0m\u001b[1;34m'confirmed'\u001b[0m\u001b[1;33m)\u001b[0m\u001b[1;33m\u001b[0m\u001b[1;33m\u001b[0m\u001b[0m\n\u001b[0m\u001b[0;32m     41\u001b[0m \u001b[0mr2\u001b[0m \u001b[1;33m=\u001b[0m \u001b[0mplotx\u001b[0m\u001b[1;33m.\u001b[0m\u001b[0mline\u001b[0m\u001b[1;33m(\u001b[0m\u001b[1;34m'x1c'\u001b[0m\u001b[1;33m,\u001b[0m \u001b[1;34m'y2c'\u001b[0m\u001b[1;33m,\u001b[0m \u001b[0msource\u001b[0m\u001b[1;33m=\u001b[0m\u001b[0msourcex\u001b[0m\u001b[1;33m,\u001b[0m \u001b[0mline_width\u001b[0m\u001b[1;33m=\u001b[0m\u001b[1;36m3\u001b[0m\u001b[1;33m,\u001b[0m \u001b[0mline_color\u001b[0m\u001b[1;33m=\u001b[0m\u001b[1;34m'green'\u001b[0m\u001b[1;33m,\u001b[0m \u001b[0mlegend_label\u001b[0m\u001b[1;33m=\u001b[0m\u001b[1;34m'recovered'\u001b[0m\u001b[1;33m)\u001b[0m\u001b[1;33m\u001b[0m\u001b[1;33m\u001b[0m\u001b[0m\n\u001b[0;32m     42\u001b[0m \u001b[0mr3\u001b[0m \u001b[1;33m=\u001b[0m \u001b[0mplotx\u001b[0m\u001b[1;33m.\u001b[0m\u001b[0mline\u001b[0m\u001b[1;33m(\u001b[0m\u001b[1;34m'x1c'\u001b[0m\u001b[1;33m,\u001b[0m \u001b[1;34m'y3c'\u001b[0m\u001b[1;33m,\u001b[0m \u001b[0msource\u001b[0m\u001b[1;33m=\u001b[0m\u001b[0msourcex\u001b[0m\u001b[1;33m,\u001b[0m \u001b[0mline_width\u001b[0m\u001b[1;33m=\u001b[0m\u001b[1;36m3\u001b[0m\u001b[1;33m,\u001b[0m \u001b[0mline_color\u001b[0m\u001b[1;33m=\u001b[0m\u001b[1;34m'blue'\u001b[0m\u001b[1;33m,\u001b[0m \u001b[0mlegend_label\u001b[0m\u001b[1;33m=\u001b[0m\u001b[1;34m'death'\u001b[0m\u001b[1;33m)\u001b[0m\u001b[1;33m\u001b[0m\u001b[1;33m\u001b[0m\u001b[0m\n",
            "\u001b[1;31mNameError\u001b[0m: name 'plotx' is not defined"
          ]
        }
      ],
      "source": [
        "#Pembuatan Slider\n",
        "iSlider = nKolom      # Index of Slider (0-91 days)\n",
        "\n",
        "x1c = x1\n",
        "y1c = df1.iloc[iSelect,4:maxKolom]\n",
        "y2c = df2.iloc[iSelect,4:maxKolom]\n",
        "y3c = df3.iloc[iSelect,4:maxKolom]\n",
        "\n",
        "x1d=[x1 for x1 in range(0,len(y1))]\n",
        "y1d=[x1 for x1 in range(0,len(y1))]\n",
        "y2d=[x1 for x1 in range(0,len(y1))]\n",
        "y3d=[x1 for x1 in range(0,len(y1))]\n",
        "\n",
        "def PDailyCase(iNum):\n",
        "  for i in range(1, nKolom):\n",
        "    y1d[i]=y1c[i]-y1c[i-1]\n",
        "    y2d[i]=y2c[i]-y2c[i-1]\n",
        "    y3d[i]=y3c[i]-y3c[i-1]\n",
        "\n",
        "PDailyCase(iSelect)\n",
        "\n",
        "mybtn31 = Button(label=mydates[nKolom], width=70)\n",
        "mybtn32 = Button(label=str(y1d[nKolom]), width=70)\n",
        "mybtn33 = Button(label=str(y2d[nKolom]), width=50)\n",
        "mybtn34 = Button(label=str(y3d[nKolom]), width=50)\n",
        "\n",
        "source3 = ColumnDataSource(data=dict(x1c=x1c, y1c=y1c, y2c=y2c, y3c=y3c))\n",
        "source3b = ColumnDataSource(data=dict(x1d=x1d, y1d=y1d, y2d=y2d, y3d=y3d))\n",
        "\n",
        "#pemberian judul\n",
        "plot3 = figure(plot_width=300, plot_height=200, title=\"Akumulasi Laporan\", toolbar_location=None)\n",
        "plot3.x_range.start = 0\n",
        "plot3.y_range.start = 0\n",
        "\n",
        "plot3b = figure(plot_width=300, plot_height=200, title=\"Laporan Kasus Harian\", toolbar_location=None)\n",
        "plot3b.x_range.start = 0\n",
        "plot3b.y_range.start = 0\n",
        "\n",
        "#pemberian warna\n",
        "r1 = plotx.line('x1c', 'y1c', source=sourcex, line_width=3, line_color='red', legend_label='confirmed')\n",
        "r2 = plotx.line('x1c', 'y2c', source=sourcex, line_width=3, line_color='green', legend_label='recovered')\n",
        "r3 = plotx.line('x1c', 'y3c', source=sourcex, line_width=3, line_color='blue', legend_label='death')\n",
        "\n",
        "r1b = ploty.line('x1d', 'y1d', source=sourcey, line_width=3, line_color='red', legend_label='confirmed')\n",
        "r2b = ploty.line('x1d', 'y2d', source=sourcey, line_width=3, line_color='green', legend_label='recovered')\n",
        "r3b = ploty.line('x1d', 'y3d', source=sourcey, line_width=3, line_color='blue', legend_label='death')"
      ]
    },
    {
      "cell_type": "code",
      "execution_count": null,
      "metadata": {
        "id": "St-7UCrlP9-R"
      },
      "outputs": [],
      "source": [
        "# Cek NaN variable (Variabel Kosong)\n",
        "def isNaN(num):\n",
        "  return num!= num\n",
        "\n",
        "for i in range(nBaris):\n",
        "  L3[i]=(L1[i] if isNaN(L2[i]) else (L1[i]+L2[i]))"
      ]
    },
    {
      "cell_type": "code",
      "execution_count": null,
      "metadata": {
        "id": "734zyLWPP_Qq"
      },
      "outputs": [],
      "source": [
        "def myhandler3a(attr,old,new):\n",
        "  iSelect=-1\n",
        "  for i in range(0, nBaris):\n",
        "    iSelect=(i if (L1[i]==new) else iSelect) \n",
        "\n",
        "  mybtn31.label = mydates[nKolom]\n",
        "  y3c = df3.iloc[iSelect,4:maxKolom]\n",
        "  y2c = df2.iloc[iSelect,4:maxKolom]\n",
        "  y1c = df1.iloc[iSelect,4:maxKolom]\n",
        "  mybtn15.label = \"Confirmed = \" + str(y1c[nKolom])\n",
        "  mybtn16.label = \"Recovered = \" + str(y2c[nKolom])\n",
        "  mybtn17.label = \"Death = \" + str(y3c[nKolom])\n",
        "  r1.data_source.data[\"y1c\"] = y1c\n",
        "  r2.data_source.data[\"y2c\"] = y2c\n",
        "  r3.data_source.data[\"y3c\"] = y3c\n",
        "\n",
        "  for i in range(1, nKolom+1):\n",
        "    y1d[i]=y1c[i]-y1c[i-1]\n",
        "    y2d[i]=y2c[i]-y2c[i-1]\n",
        "    y3d[i]=y3c[i]-y3c[i-1]\n",
        "  r1b.data_source.data[\"y1d\"] = y1d\n",
        "  r2b.data_source.data[\"y2d\"] = y2d\n",
        "  r3b.data_source.data[\"y3d\"] = y3d\n",
        "  mybtn32.label = str(y1d[nKolom])\n",
        "  mybtn33.label = str(y2d[nKolom])\n",
        "  mybtn34.label = str(y3d[nKolom])\n",
        "\n",
        "opsiSelect=L3\n",
        "myselect3 = Select(value=opsiSelect[0], options=opsiSelect, title=\"Country/Province \", width=150)\n",
        "myselect3.on_change('value', myhandler3a)\n",
        "\n",
        "print(nBaris) \n",
        "print(nKolom)\n",
        "print(L1[nBaris])\n",
        "print(y1c[nKolom])\n",
        "print(y2c[nKolom])\n",
        "print(y3c[nKolom])"
      ]
    },
    {
      "cell_type": "code",
      "execution_count": null,
      "metadata": {
        "id": "d22RxBqTQgxM"
      },
      "outputs": [],
      "source": [
        "A = column(myselect3, mybtn15, mybtn16, mybtn17)\n",
        "\n",
        "C33 = row(mybtn31, mybtn32, mybtn33, mybtn34)\n",
        "C = column(plot3, C33, plot3b)\n",
        "\n",
        "MyLayout = row(A, C)\n",
        "#show(MyLayout)\n",
        "curdoc().add_root(MyLayout)\n",
        "curdoc().title = \"Visualisasi Statistik COVID-19\""
      ]
    }
  ],
  "metadata": {
    "colab": {
      "name": "FinalProject.ipynb",
      "provenance": [],
      "collapsed_sections": []
    },
    "kernelspec": {
      "display_name": "Python 3",
      "language": "python",
      "name": "python3"
    },
    "language_info": {
      "codemirror_mode": {
        "name": "ipython",
        "version": 3
      },
      "file_extension": ".py",
      "mimetype": "text/x-python",
      "name": "python",
      "nbconvert_exporter": "python",
      "pygments_lexer": "ipython3",
      "version": "3.8.3"
    }
  },
  "nbformat": 4,
  "nbformat_minor": 0
}